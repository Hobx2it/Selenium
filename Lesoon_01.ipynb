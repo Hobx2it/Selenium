{
 "cells": [
  {
   "cell_type": "code",
   "execution_count": 1,
   "metadata": {},
   "outputs": [
    {
     "name": "stdout",
     "output_type": "stream",
     "text": [
      "723128532146\n"
     ]
    }
   ],
   "source": [
    "import math\n",
    "fun = lambda x : 1 if x == 1 else math.ceil(math.sinh(fun (x-1)))\n",
    "print(fun(5))"
   ]
  },
  {
   "cell_type": "code",
   "execution_count": 2,
   "metadata": {},
   "outputs": [
    {
     "data": {
      "text/plain": [
       "'3.141.0'"
      ]
     },
     "execution_count": 2,
     "metadata": {},
     "output_type": "execute_result"
    }
   ],
   "source": [
    "import selenium\n",
    "\n",
    "selenium.__version__"
   ]
  },
  {
   "cell_type": "code",
   "execution_count": 7,
   "metadata": {},
   "outputs": [],
   "source": [
    "import time\n",
    "\n",
    "# webdriver это и есть набор команд для управления браузером\n",
    "from selenium import webdriver\n",
    "\n",
    "# инициализируем драйвер браузера. После этой команды вы должны увидеть новое открытое окно браузера\n",
    "driver = webdriver.Chrome()\n",
    "\n",
    "# команда time.sleep устанавливает паузу в 5 секунд, чтобы мы успели увидеть, что происходит в браузере\n",
    "time.sleep(5)\n",
    "\n",
    "# Метод get сообщает браузеру, что нужно открыть сайт по указанной ссылке\n",
    "driver.get(\"https://stepik.org/lesson/25969/step/12\")\n",
    "time.sleep(5)\n",
    "\n",
    "# Метод find_element_by_css_selector позволяет найти нужный элемент на сайте, указав путь к нему. Способы поиска элементов мы обсудим позже\n",
    "# Ищем поле для ввода текста\n",
    "textarea = driver.find_element_by_css_selector(\".textarea\")\n",
    "\n",
    "# Напишем текст ответа в найденное поле\n",
    "textarea.send_keys(\"get()\")\n",
    "time.sleep(5)\n",
    "\n",
    "# Найдем кнопку, которая отправляет введенное решение\n",
    "submit_button = driver.find_element_by_css_selector(\".submit-submission\")\n",
    "\n",
    "# Скажем драйверу, что нужно нажать на кнопку. После этой команды мы должны увидеть сообщение о правильном ответе\n",
    "submit_button.click()\n",
    "time.sleep(5)\n",
    "\n",
    "# После выполнения всех действий мы не должны забыть закрыть окно браузера\n",
    "driver.quit()"
   ]
  },
  {
   "cell_type": "code",
   "execution_count": 3,
   "metadata": {},
   "outputs": [],
   "source": [
    "from selenium import webdriver\n",
    "import time \n",
    "\n",
    "link = \"http://suninjuly.github.io/simple_form_find_task.html\"\n",
    "\n",
    "try:\n",
    "    browser = webdriver.Chrome()\n",
    "    browser.get(link)\n",
    "\n",
    "    input1 = browser.find_element_by_tag_name('input')\n",
    "    input1.send_keys(\"Ivan\")\n",
    "    input2 = browser.find_element_by_name('last_name')\n",
    "    input2.send_keys(\"Petrov\")\n",
    "    input3 = browser.find_element_by_css_selector('.form-control.city')\n",
    "    input3.send_keys(\"Smolensk\")\n",
    "    input4 = browser.find_element_by_id('country')\n",
    "    input4.send_keys(\"Russia\")\n",
    "    button = browser.find_element_by_css_selector(\"button.btn\")\n",
    "    button.click()\n",
    "\n",
    "finally:\n",
    "    # успеваем скопировать код за 30 секунд\n",
    "    time.sleep(30)\n",
    "    # закрываем браузер после всех манипуляций\n",
    "    browser.quit()\n",
    "\n",
    "# не забываем оставить пустую строку в конце файла"
   ]
  },
  {
   "cell_type": "code",
   "execution_count": 4,
   "metadata": {},
   "outputs": [],
   "source": [
    "from selenium import webdriver\n",
    "import time \n",
    "import math\n",
    "\n",
    "link = 'http://suninjuly.github.io/find_link_text'\n",
    "\n",
    "try:\n",
    "    browser = webdriver.Chrome()\n",
    "    browser.get(link)\n",
    "    \n",
    "    link_text = browser.find_element_by_link_text(str(math.ceil(math.pow(math.pi, math.e)*10000)))\n",
    "    link_text.click()\n",
    "    time.sleep(2)\n",
    "    input1 = browser.find_element_by_tag_name('input')\n",
    "    input1.send_keys(\"Ivan\")\n",
    "    input2 = browser.find_element_by_name('last_name')\n",
    "    input2.send_keys(\"Petrov\")\n",
    "    input3 = browser.find_element_by_css_selector('.form-control.city')\n",
    "    input3.send_keys(\"Smolensk\")\n",
    "    input4 = browser.find_element_by_id('country')\n",
    "    input4.send_keys(\"Russia\")\n",
    "    button = browser.find_element_by_css_selector(\"button.btn\")\n",
    "    button.click()\n",
    "\n",
    "finally:\n",
    "    # успеваем скопировать код за 30 секунд\n",
    "    time.sleep(30)\n",
    "    # закрываем браузер после всех манипуляций\n",
    "    browser.quit()    \n",
    "    \n",
    "    \n",
    "    \n",
    "    "
   ]
  },
  {
   "cell_type": "code",
   "execution_count": 1,
   "metadata": {},
   "outputs": [],
   "source": [
    "from selenium import webdriver\n",
    "import time\n",
    "import math\n",
    "\n",
    "browser = webdriver.Chrome()\n",
    "\n",
    "link = 'http://suninjuly.github.io/huge_form.html'\n",
    "\n",
    "try:\n",
    "    browser.get(link)\n",
    "    lst = browser.find_elements_by_tag_name('input')\n",
    "    for element in lst:\n",
    "        element.send_keys('fff')\n",
    "    button = browser.find_element_by_css_selector(\"button.btn\")\n",
    "    button.click()\n",
    "\n",
    "finally:\n",
    "    # успеваем скопировать код за 30 секунд\n",
    "    time.sleep(30)\n",
    "    # закрываем браузер после всех манипуляций\n",
    "    browser.quit()    \n",
    "    "
   ]
  },
  {
   "cell_type": "code",
   "execution_count": 1,
   "metadata": {},
   "outputs": [],
   "source": [
    "from selenium import webdriver\n",
    "import math\n",
    "import time\n",
    "\n",
    "link = 'http://suninjuly.github.io/find_xpath_form'\n",
    "browser = webdriver.Chrome()\n",
    "\n",
    "try:\n",
    "    browser.get(link)\n",
    "    forms = browser.find_elements_by_tag_name('input')\n",
    "    for element in forms:\n",
    "        element.send_keys('ff')\n",
    "        \n",
    "    button = browser.find_element_by_xpath('//*[text()=\"Submit\"]')\n",
    "    button.click()\n",
    "finally:\n",
    "    # успеваем скопировать код за 30 секунд\n",
    "    time.sleep(30)\n",
    "    # закрываем браузер после всех манипуляций\n",
    "    browser.quit()    \n",
    "        \n",
    "\n"
   ]
  },
  {
   "cell_type": "code",
   "execution_count": 12,
   "metadata": {},
   "outputs": [],
   "source": [
    "# поиск трех обязательных полей\n",
    "\n",
    "from selenium import webdriver\n",
    "import time\n",
    "\n",
    "try: \n",
    "    link = \"http://suninjuly.github.io/registration1.html\"\n",
    "    browser = webdriver.Chrome()\n",
    "    browser.get(link)\n",
    "    \n",
    "\n",
    "    # Ваш код, который заполняет обязательные поля\n",
    "    first_name = browser.find_element_by_css_selector('.form-control.first:required')\n",
    "    last_name = browser.find_element_by_css_selector('.form-control.second:required')\n",
    "    email = browser.find_element_by_css_selector('.form-control.third:required')\n",
    "    for element in (first_name, last_name, email):\n",
    "        element.send_keys('sample')\n",
    "\n",
    "    # Отправляем заполненную форму\n",
    "    button = browser.find_element_by_css_selector(\"button.btn\")\n",
    "    button.click()\n",
    "\n",
    "    # Проверяем, что смогли зарегистрироваться\n",
    "    # ждем загрузки страницы\n",
    "    time.sleep(1)\n",
    "\n",
    "    # находим элемент, содержащий текст\n",
    "    welcome_text_elt = browser.find_element_by_tag_name(\"h1\")\n",
    "    # записываем в переменную welcome_text текст из элемента welcome_text_elt\n",
    "    welcome_text = welcome_text_elt.text\n",
    "\n",
    "    # с помощью assert проверяем, что ожидаемый текст совпадает с текстом на странице сайта\n",
    "    assert \"Congratulations! You have successfully registered!\" == welcome_text\n",
    "\n",
    "finally:\n",
    "    # ожидание чтобы визуально оценить результаты прохождения скрипта\n",
    "    time.sleep(10)\n",
    "    # закрываем браузер после всех манипуляций\n",
    "    browser.quit()"
   ]
  },
  {
   "cell_type": "code",
   "execution_count": 15,
   "metadata": {},
   "outputs": [
    {
     "name": "stderr",
     "output_type": "stream",
     "text": [
      "WARNING:urllib3.connectionpool:Retrying (Retry(total=2, connect=None, read=None, redirect=None, status=None)) after connection broken by 'NewConnectionError('<urllib3.connection.HTTPConnection object at 0x00000155417B6288>: Failed to establish a new connection: [WinError 10061] Подключение не установлено, т.к. конечный компьютер отверг запрос на подключение')': /session/972761dc983d7c373ffb2f7b2e126e2c\n",
      "WARNING:urllib3.connectionpool:Retrying (Retry(total=1, connect=None, read=None, redirect=None, status=None)) after connection broken by 'NewConnectionError('<urllib3.connection.HTTPConnection object at 0x00000155418C5F08>: Failed to establish a new connection: [WinError 10061] Подключение не установлено, т.к. конечный компьютер отверг запрос на подключение')': /session/972761dc983d7c373ffb2f7b2e126e2c\n",
      "WARNING:urllib3.connectionpool:Retrying (Retry(total=0, connect=None, read=None, redirect=None, status=None)) after connection broken by 'NewConnectionError('<urllib3.connection.HTTPConnection object at 0x00000155418C8648>: Failed to establish a new connection: [WinError 10061] Подключение не установлено, т.к. конечный компьютер отверг запрос на подключение')': /session/972761dc983d7c373ffb2f7b2e126e2c\n"
     ]
    }
   ],
   "source": [
    "from selenium import webdriver\n",
    "from selenium.webdriver.common.by import By\n",
    "from selenium.webdriver.support.ui import WebDriverWait\n",
    "from selenium.webdriver.support import expected_conditions as EC\n",
    "\n",
    "link = \"http://suninjuly.github.io/registration1.html\"\n",
    "\n",
    "with webdriver.Chrome() as browser:\n",
    "    browser.get(link)\n",
    "    first_name = browser.find_element(By.CSS_SELECTOR, \".first_block input.form-control.first\")\n",
    "    first_name.send_keys(\"Maxim\")\n",
    "    second_name = browser.find_element(By.CSS_SELECTOR, \".first_block input.form-control.second\")\n",
    "    second_name.send_keys(\"Tikhomirov\")\n",
    "    email = browser.find_element(By.CSS_SELECTOR, \".first_block input.form-control.third\")\n",
    "    email.send_keys(\"1@gmail.com\")\n",
    "    button = browser.find_element(By.CSS_SELECTOR, \"button.btn\")\n",
    "    button.click()\n",
    "    final_text = WebDriverWait(browser, 10).until(EC.presence_of_element_located((By.TAG_NAME, \"h1\")))\n",
    "    assert final_text.text == \"Congratulations! You have successfully registered!\"\n",
    "    time.sleep(4)\n",
    "    browser.quit()"
   ]
  },
  {
   "cell_type": "code",
   "execution_count": null,
   "metadata": {},
   "outputs": [],
   "source": []
  }
 ],
 "metadata": {
  "kernelspec": {
   "display_name": "Python 3",
   "language": "python",
   "name": "python3"
  },
  "language_info": {
   "codemirror_mode": {
    "name": "ipython",
    "version": 3
   },
   "file_extension": ".py",
   "mimetype": "text/x-python",
   "name": "python",
   "nbconvert_exporter": "python",
   "pygments_lexer": "ipython3",
   "version": "3.7.6"
  }
 },
 "nbformat": 4,
 "nbformat_minor": 4
}
